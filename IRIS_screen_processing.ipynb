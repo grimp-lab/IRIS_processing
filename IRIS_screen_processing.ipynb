{
 "cells": [
  {
   "cell_type": "markdown",
   "metadata": {},
   "source": [
    "# IRIS PROCESSING NOTEBOOK (IRIS with screen)\n",
    "\n",
    "## ReadMe :\n",
    "\n",
    "- This notebook is designed for the IRIS version WITH A SCREEN. This version outputs a .txt file with date/time information, height, and voltage.\n",
    "\n",
    "- Make sure to enter the correct filename in the input cell\n",
    "\n",
    "- Run every cell, the processed data will be written in a separate .txt file\n",
    "<br/><br/>\n",
    "\n",
    "Author : Paul Billecocq, GRIMP, Université de Sherbrooke, QC, Canada\n",
    "\n",
    "Contact : paul.billecocq@usherbrooke.ca"
   ]
  },
  {
   "cell_type": "code",
   "execution_count": 1,
   "metadata": {},
   "outputs": [],
   "source": [
    "import pandas as pd\n",
    "import iris_core as iris"
   ]
  },
  {
   "cell_type": "markdown",
   "metadata": {},
   "source": [
    "### 1. Input IRIS file name"
   ]
  },
  {
   "cell_type": "code",
   "execution_count": 2,
   "metadata": {},
   "outputs": [],
   "source": [
    "iris_file = 'data/screen/20200203.TXT'"
   ]
  },
  {
   "cell_type": "markdown",
   "metadata": {},
   "source": [
    "### 2. Specifiy IRIS version"
   ]
  },
  {
   "cell_type": "code",
   "execution_count": 3,
   "metadata": {},
   "outputs": [],
   "source": [
    "#Valid choices are : IRIS_1, IRIS_2, or IRIS_3\n",
    "IRIS_VERSION = 'IRIS_2'"
   ]
  },
  {
   "cell_type": "markdown",
   "metadata": {},
   "source": [
    "### 3. Processing"
   ]
  },
  {
   "cell_type": "markdown",
   "metadata": {},
   "source": [
    "#### Read file and create calibration and measures dataframe"
   ]
  },
  {
   "cell_type": "code",
   "execution_count": 4,
   "metadata": {},
   "outputs": [],
   "source": [
    "df_raw = pd.read_csv(iris_file, header=None, names=['date', 'time', 'height', 'voltage'])\n",
    "df_raw['timestamp'] =  pd.to_datetime(df_raw['date'] + \" \" +  df_raw['time'])\n",
    "df_raw.drop(['date', 'time'], axis=1, inplace=True)\n",
    "\n",
    "calib_df  = df_raw[df_raw['height'].str.contains('Spectralon')].copy()\n",
    "measures_df = df_raw[df_raw['height'].str.contains(' cm')].copy()"
   ]
  },
  {
   "cell_type": "markdown",
   "metadata": {},
   "source": [
    "#### Compute reflectance voltage averages for spectralon and measures"
   ]
  },
  {
   "cell_type": "code",
   "execution_count": 5,
   "metadata": {},
   "outputs": [],
   "source": [
    "calib_df.rename({'height': 'spectralon'}, inplace=True, axis=1)\n",
    "calib_df['spectralon'] = calib_df['spectralon'].apply(lambda x : int(x.split(' ')[-1][:-1]))\n",
    "calib_df = calib_df.groupby(['spectralon']).mean()"
   ]
  },
  {
   "cell_type": "markdown",
   "metadata": {},
   "source": [
    "#### Create averaged voltages per heights"
   ]
  },
  {
   "cell_type": "code",
   "execution_count": 6,
   "metadata": {},
   "outputs": [],
   "source": [
    "measures_df['height'] = measures_df.apply(lambda x : int(x['height'].split('cm')[0]), axis=1)\n",
    "measures_df = measures_df.groupby(['height'], axis=0).mean()"
   ]
  },
  {
   "cell_type": "markdown",
   "metadata": {},
   "source": [
    "#### Compute IRIS parameters"
   ]
  },
  {
   "cell_type": "code",
   "execution_count": 7,
   "metadata": {},
   "outputs": [],
   "source": [
    "# Voltage to reflectance polynomial fit\n",
    "polynom = iris.calibration_polynom_fit(calib_df.index.values, calib_df['voltage'].values)"
   ]
  },
  {
   "cell_type": "code",
   "execution_count": 8,
   "metadata": {},
   "outputs": [],
   "source": [
    "# Compute reflectance\n",
    "measures_df['reflectance'] = measures_df['voltage'].apply(lambda x : iris.voltage_to_reflectance(x, polynom))"
   ]
  },
  {
   "cell_type": "code",
   "execution_count": 9,
   "metadata": {},
   "outputs": [],
   "source": [
    "# Compute SSA from reflectance\n",
    "measures_df['ssa'] = measures_df['reflectance'].apply(lambda x : iris.reflectance_to_ssa(x, IRIS_VERSION))"
   ]
  },
  {
   "cell_type": "code",
   "execution_count": 10,
   "metadata": {},
   "outputs": [],
   "source": [
    "# Compute optical radius from SSA\n",
    "measures_df['optical radius'] = measures_df['ssa'].apply(lambda x : iris.ssa_to_optical_radius(x))"
   ]
  },
  {
   "cell_type": "markdown",
   "metadata": {},
   "source": [
    "#### Processed data preview"
   ]
  },
  {
   "cell_type": "code",
   "execution_count": 14,
   "metadata": {},
   "outputs": [
    {
     "data": {
      "text/html": [
       "<div>\n",
       "<style scoped>\n",
       "    .dataframe tbody tr th:only-of-type {\n",
       "        vertical-align: middle;\n",
       "    }\n",
       "\n",
       "    .dataframe tbody tr th {\n",
       "        vertical-align: top;\n",
       "    }\n",
       "\n",
       "    .dataframe thead th {\n",
       "        text-align: right;\n",
       "    }\n",
       "</style>\n",
       "<table border=\"1\" class=\"dataframe\">\n",
       "  <thead>\n",
       "    <tr style=\"text-align: right;\">\n",
       "      <th></th>\n",
       "      <th>voltage</th>\n",
       "      <th>reflectance</th>\n",
       "      <th>ssa</th>\n",
       "      <th>optical radius</th>\n",
       "    </tr>\n",
       "    <tr>\n",
       "      <th>height</th>\n",
       "      <th></th>\n",
       "      <th></th>\n",
       "      <th></th>\n",
       "      <th></th>\n",
       "    </tr>\n",
       "  </thead>\n",
       "  <tbody>\n",
       "    <tr>\n",
       "      <th>305</th>\n",
       "      <td>1.534000</td>\n",
       "      <td>51.35</td>\n",
       "      <td>55.17</td>\n",
       "      <td>0.059319</td>\n",
       "    </tr>\n",
       "    <tr>\n",
       "      <th>292</th>\n",
       "      <td>1.307000</td>\n",
       "      <td>40.71</td>\n",
       "      <td>30.34</td>\n",
       "      <td>0.107864</td>\n",
       "    </tr>\n",
       "    <tr>\n",
       "      <th>280</th>\n",
       "      <td>1.243000</td>\n",
       "      <td>38.46</td>\n",
       "      <td>26.84</td>\n",
       "      <td>0.121930</td>\n",
       "    </tr>\n",
       "    <tr>\n",
       "      <th>271</th>\n",
       "      <td>1.322333</td>\n",
       "      <td>41.29</td>\n",
       "      <td>31.32</td>\n",
       "      <td>0.104489</td>\n",
       "    </tr>\n",
       "    <tr>\n",
       "      <th>265</th>\n",
       "      <td>1.309333</td>\n",
       "      <td>40.79</td>\n",
       "      <td>30.48</td>\n",
       "      <td>0.107369</td>\n",
       "    </tr>\n",
       "    <tr>\n",
       "      <th>260</th>\n",
       "      <td>1.225333</td>\n",
       "      <td>37.88</td>\n",
       "      <td>26.01</td>\n",
       "      <td>0.125821</td>\n",
       "    </tr>\n",
       "    <tr>\n",
       "      <th>255</th>\n",
       "      <td>1.059333</td>\n",
       "      <td>33.14</td>\n",
       "      <td>20.09</td>\n",
       "      <td>0.162897</td>\n",
       "    </tr>\n",
       "    <tr>\n",
       "      <th>245</th>\n",
       "      <td>1.180333</td>\n",
       "      <td>36.49</td>\n",
       "      <td>24.11</td>\n",
       "      <td>0.135737</td>\n",
       "    </tr>\n",
       "    <tr>\n",
       "      <th>239</th>\n",
       "      <td>1.154333</td>\n",
       "      <td>35.73</td>\n",
       "      <td>23.14</td>\n",
       "      <td>0.141426</td>\n",
       "    </tr>\n",
       "    <tr>\n",
       "      <th>230</th>\n",
       "      <td>1.185333</td>\n",
       "      <td>36.64</td>\n",
       "      <td>24.31</td>\n",
       "      <td>0.134620</td>\n",
       "    </tr>\n",
       "    <tr>\n",
       "      <th>220</th>\n",
       "      <td>1.173333</td>\n",
       "      <td>36.28</td>\n",
       "      <td>23.84</td>\n",
       "      <td>0.137274</td>\n",
       "    </tr>\n",
       "    <tr>\n",
       "      <th>210</th>\n",
       "      <td>1.026000</td>\n",
       "      <td>32.28</td>\n",
       "      <td>19.17</td>\n",
       "      <td>0.170715</td>\n",
       "    </tr>\n",
       "    <tr>\n",
       "      <th>200</th>\n",
       "      <td>0.935000</td>\n",
       "      <td>30.00</td>\n",
       "      <td>16.91</td>\n",
       "      <td>0.193531</td>\n",
       "    </tr>\n",
       "    <tr>\n",
       "      <th>190</th>\n",
       "      <td>1.104667</td>\n",
       "      <td>34.34</td>\n",
       "      <td>21.45</td>\n",
       "      <td>0.152569</td>\n",
       "    </tr>\n",
       "    <tr>\n",
       "      <th>180</th>\n",
       "      <td>1.023333</td>\n",
       "      <td>32.21</td>\n",
       "      <td>19.10</td>\n",
       "      <td>0.171341</td>\n",
       "    </tr>\n",
       "    <tr>\n",
       "      <th>170</th>\n",
       "      <td>0.938333</td>\n",
       "      <td>30.08</td>\n",
       "      <td>16.98</td>\n",
       "      <td>0.192733</td>\n",
       "    </tr>\n",
       "    <tr>\n",
       "      <th>160</th>\n",
       "      <td>1.027000</td>\n",
       "      <td>32.31</td>\n",
       "      <td>19.20</td>\n",
       "      <td>0.170448</td>\n",
       "    </tr>\n",
       "    <tr>\n",
       "      <th>150</th>\n",
       "      <td>1.015333</td>\n",
       "      <td>32.01</td>\n",
       "      <td>18.89</td>\n",
       "      <td>0.173246</td>\n",
       "    </tr>\n",
       "    <tr>\n",
       "      <th>140</th>\n",
       "      <td>0.988333</td>\n",
       "      <td>31.33</td>\n",
       "      <td>18.19</td>\n",
       "      <td>0.179912</td>\n",
       "    </tr>\n",
       "    <tr>\n",
       "      <th>130</th>\n",
       "      <td>0.919000</td>\n",
       "      <td>29.60</td>\n",
       "      <td>16.54</td>\n",
       "      <td>0.197860</td>\n",
       "    </tr>\n",
       "    <tr>\n",
       "      <th>120</th>\n",
       "      <td>0.968000</td>\n",
       "      <td>30.82</td>\n",
       "      <td>17.69</td>\n",
       "      <td>0.184998</td>\n",
       "    </tr>\n",
       "    <tr>\n",
       "      <th>110</th>\n",
       "      <td>0.922333</td>\n",
       "      <td>29.68</td>\n",
       "      <td>16.61</td>\n",
       "      <td>0.197026</td>\n",
       "    </tr>\n",
       "    <tr>\n",
       "      <th>100</th>\n",
       "      <td>0.948333</td>\n",
       "      <td>30.33</td>\n",
       "      <td>17.22</td>\n",
       "      <td>0.190047</td>\n",
       "    </tr>\n",
       "    <tr>\n",
       "      <th>90</th>\n",
       "      <td>0.829667</td>\n",
       "      <td>27.30</td>\n",
       "      <td>14.54</td>\n",
       "      <td>0.225076</td>\n",
       "    </tr>\n",
       "    <tr>\n",
       "      <th>80</th>\n",
       "      <td>0.793000</td>\n",
       "      <td>26.31</td>\n",
       "      <td>13.75</td>\n",
       "      <td>0.238008</td>\n",
       "    </tr>\n",
       "    <tr>\n",
       "      <th>70</th>\n",
       "      <td>0.874000</td>\n",
       "      <td>28.46</td>\n",
       "      <td>15.52</td>\n",
       "      <td>0.210864</td>\n",
       "    </tr>\n",
       "    <tr>\n",
       "      <th>60</th>\n",
       "      <td>0.799667</td>\n",
       "      <td>26.49</td>\n",
       "      <td>13.89</td>\n",
       "      <td>0.235609</td>\n",
       "    </tr>\n",
       "    <tr>\n",
       "      <th>50</th>\n",
       "      <td>0.729333</td>\n",
       "      <td>24.47</td>\n",
       "      <td>12.37</td>\n",
       "      <td>0.264560</td>\n",
       "    </tr>\n",
       "    <tr>\n",
       "      <th>40</th>\n",
       "      <td>0.728333</td>\n",
       "      <td>24.44</td>\n",
       "      <td>12.35</td>\n",
       "      <td>0.264989</td>\n",
       "    </tr>\n",
       "    <tr>\n",
       "      <th>30</th>\n",
       "      <td>0.646333</td>\n",
       "      <td>21.78</td>\n",
       "      <td>10.55</td>\n",
       "      <td>0.310200</td>\n",
       "    </tr>\n",
       "    <tr>\n",
       "      <th>20</th>\n",
       "      <td>0.678333</td>\n",
       "      <td>22.86</td>\n",
       "      <td>11.25</td>\n",
       "      <td>0.290899</td>\n",
       "    </tr>\n",
       "    <tr>\n",
       "      <th>10</th>\n",
       "      <td>0.714667</td>\n",
       "      <td>24.02</td>\n",
       "      <td>12.05</td>\n",
       "      <td>0.271586</td>\n",
       "    </tr>\n",
       "  </tbody>\n",
       "</table>\n",
       "</div>"
      ],
      "text/plain": [
       "         voltage  reflectance    ssa  optical radius\n",
       "height                                              \n",
       "305     1.534000        51.35  55.17        0.059319\n",
       "292     1.307000        40.71  30.34        0.107864\n",
       "280     1.243000        38.46  26.84        0.121930\n",
       "271     1.322333        41.29  31.32        0.104489\n",
       "265     1.309333        40.79  30.48        0.107369\n",
       "260     1.225333        37.88  26.01        0.125821\n",
       "255     1.059333        33.14  20.09        0.162897\n",
       "245     1.180333        36.49  24.11        0.135737\n",
       "239     1.154333        35.73  23.14        0.141426\n",
       "230     1.185333        36.64  24.31        0.134620\n",
       "220     1.173333        36.28  23.84        0.137274\n",
       "210     1.026000        32.28  19.17        0.170715\n",
       "200     0.935000        30.00  16.91        0.193531\n",
       "190     1.104667        34.34  21.45        0.152569\n",
       "180     1.023333        32.21  19.10        0.171341\n",
       "170     0.938333        30.08  16.98        0.192733\n",
       "160     1.027000        32.31  19.20        0.170448\n",
       "150     1.015333        32.01  18.89        0.173246\n",
       "140     0.988333        31.33  18.19        0.179912\n",
       "130     0.919000        29.60  16.54        0.197860\n",
       "120     0.968000        30.82  17.69        0.184998\n",
       "110     0.922333        29.68  16.61        0.197026\n",
       "100     0.948333        30.33  17.22        0.190047\n",
       "90      0.829667        27.30  14.54        0.225076\n",
       "80      0.793000        26.31  13.75        0.238008\n",
       "70      0.874000        28.46  15.52        0.210864\n",
       "60      0.799667        26.49  13.89        0.235609\n",
       "50      0.729333        24.47  12.37        0.264560\n",
       "40      0.728333        24.44  12.35        0.264989\n",
       "30      0.646333        21.78  10.55        0.310200\n",
       "20      0.678333        22.86  11.25        0.290899\n",
       "10      0.714667        24.02  12.05        0.271586"
      ]
     },
     "execution_count": 14,
     "metadata": {},
     "output_type": "execute_result"
    }
   ],
   "source": [
    "measures_df.sort_index(ascending=False, inplace=True)\n",
    "measures_df"
   ]
  },
  {
   "cell_type": "markdown",
   "metadata": {},
   "source": [
    "### 4. Write dataframe to a .csv file"
   ]
  },
  {
   "cell_type": "code",
   "execution_count": 15,
   "metadata": {},
   "outputs": [],
   "source": [
    "measures_df.to_csv(iris_file.split('.')[0] + '_processed.csv')"
   ]
  },
  {
   "cell_type": "code",
   "execution_count": null,
   "metadata": {},
   "outputs": [],
   "source": []
  }
 ],
 "metadata": {
  "kernelspec": {
   "display_name": "Python 3",
   "language": "python",
   "name": "python3"
  },
  "language_info": {
   "codemirror_mode": {
    "name": "ipython",
    "version": 3
   },
   "file_extension": ".py",
   "mimetype": "text/x-python",
   "name": "python",
   "nbconvert_exporter": "python",
   "pygments_lexer": "ipython3",
   "version": "3.7.7"
  }
 },
 "nbformat": 4,
 "nbformat_minor": 4
}
