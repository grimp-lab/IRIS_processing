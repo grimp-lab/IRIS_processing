{
 "cells": [
  {
   "cell_type": "markdown",
   "metadata": {},
   "source": [
    "# IRIS PROCESSING NOTEBOOK for Arctic Template\n",
    "\n",
    "## ReadMe : \n",
    "- This notebook is designed for the spreadsheet of the Arctic Template.\n",
    "- A few guidelines about the snow pit spreadsheet :\n",
    "    - IRIS version has to be specified as IRIS# in the IRIS sheet of the pit spreadsheet\n",
    "    - NoData is filled as 9999 in the spreadsheet when logging the .txt file IRIS provides\n",
    "\n",
    "<br/><br/>\n",
    "\n",
    "Author : Paul Billecocq, GRIMP, Université de Sherbooke QC Canada\n",
    "modif Julien Meloche"
   ]
  },
  {
   "cell_type": "code",
   "execution_count": null,
   "metadata": {},
   "outputs": [],
   "source": [
    "import iris_core as iris\n",
    "import pandas as pd\n",
    "import numpy as np\n",
    "import openpyxl\n",
    "from openpyxl import load_workbook"
   ]
  },
  {
   "cell_type": "markdown",
   "metadata": {},
   "source": [
    "### 1. Input spreadsheet path"
   ]
  },
  {
   "cell_type": "code",
   "execution_count": null,
   "metadata": {},
   "outputs": [],
   "source": [
    "FILENAME = 'D:CB-2022-radiometer/snowpit_SSAtoProcess/SBRSP39_20220423_1215.xlsx' #fill in with your specific filename (it has to be placed in the same folder as the notebook)\n",
    "\n",
    "#specify iris version from sheet\n",
    "iris_sheet = \"IRIS2\"\n",
    "iris_version = iris_sheet[:-1] + '_' + iris_sheet[-1:]\n",
    "# Read IRIS data from the IRIS sheet of the file\n",
    "data = pd.read_excel(FILENAME, sheet_name=iris_sheet)"
   ]
  },
  {
   "cell_type": "markdown",
   "metadata": {},
   "source": [
    "### 2. Processing"
   ]
  },
  {
   "cell_type": "markdown",
   "metadata": {},
   "source": [
    "#### IRIS data retrieval, cleaning no data, and average reflectance voltages"
   ]
  },
  {
   "cell_type": "code",
   "execution_count": null,
   "metadata": {},
   "outputs": [],
   "source": [
    "# List cleaning function\n",
    "def nanify_list(input_list):\n",
    "    return [np.nan if x == 9999 else x for x in input_list]\n",
    "\n",
    "\n",
    "# Calibration data retrieval\n",
    "spectralon = data[\"Spectralon (%)\"].dropna().tolist()\n",
    "spectralon = np.array(spectralon,dtype=float)\n",
    "calibration_one = nanify_list(data[\"Calibration measured IRIS (mV)\"].dropna().tolist())\n",
    "calibration_two = nanify_list(data[\"Other calibration measured IRIS (mV)\"].dropna().tolist())\n",
    "if np.isnan(np.mean(calibration_one))== True:\n",
    "    calibration_one = nanify_list(data[\"Calibration multimeter (mV)\"].dropna().tolist())\n",
    "    calibration_two = nanify_list(data[\"Other calibration multimeter (mV)\"].dropna().tolist())\n",
    "\n",
    "calibration_list = [calibration_one, calibration_two]\n",
    "calibration_scans = np.array([calib for calib in calibration_list if len(calib) > 0 ])\n",
    "\n",
    "# Calibration voltage averaging\n",
    "calibration = np.nanmean(calibration_scans, axis=0)\n",
    "calibration = np.array(calibration,dtype=float)\n",
    "\n",
    "# Measures data retrieval\n",
    "height = data[\"Height (cm)\"].dropna().tolist()\n",
    "measures = nanify_list(data['Measured IRIS (mV)'].dropna().tolist())\n",
    "if np.isnan(np.mean(measures)) == True:\n",
    "    measures = nanify_list(data[\"Multimeter (mV)\"].dropna().tolist())\n",
    "measures = np.array(measures)"
   ]
  },
  {
   "cell_type": "code",
   "execution_count": null,
   "metadata": {},
   "outputs": [],
   "source": [
    "measures"
   ]
  },
  {
   "cell_type": "markdown",
   "metadata": {},
   "source": [
    "#### Compute IRIS parameters"
   ]
  },
  {
   "cell_type": "code",
   "execution_count": null,
   "metadata": {},
   "outputs": [],
   "source": [
    "# Voltage to reflectance polynomial fit\n",
    "polynom = iris.calibration_polynom_fit(spectralon, calibration)"
   ]
  },
  {
   "cell_type": "code",
   "execution_count": null,
   "metadata": {},
   "outputs": [],
   "source": [
    "# Compute reflectance\n",
    "reflectance = iris.voltage_to_reflectance(measures, polynom)"
   ]
  },
  {
   "cell_type": "code",
   "execution_count": null,
   "metadata": {},
   "outputs": [],
   "source": [
    "# Compute SSA from reflectance\n",
    "ssa = iris.reflectance_to_ssa(reflectance, iris_version)"
   ]
  },
  {
   "cell_type": "code",
   "execution_count": null,
   "metadata": {},
   "outputs": [],
   "source": [
    "# Compute optical radius from SSA\n",
    "optical_radius = iris.ssa_to_optical_radius(ssa)"
   ]
  },
  {
   "cell_type": "markdown",
   "metadata": {},
   "source": [
    "#### Processed data preview"
   ]
  },
  {
   "cell_type": "code",
   "execution_count": null,
   "metadata": {},
   "outputs": [],
   "source": [
    "measures_df = pd.DataFrame.from_dict({\n",
    "    'height': height,\n",
    "    'voltage': measures,\n",
    "    'reflectance': reflectance,\n",
    "    'ssa': ssa,\n",
    "    'optical radius': optical_radius\n",
    "})\n",
    "\n",
    "measures_df"
   ]
  },
  {
   "cell_type": "markdown",
   "metadata": {},
   "source": [
    "### 3. Write processed data in the spreadsheet"
   ]
  },
  {
   "cell_type": "code",
   "execution_count": null,
   "metadata": {},
   "outputs": [],
   "source": [
    "# Spreadsheet initialization\n",
    "workbook = load_workbook(FILENAME) \n",
    "iris_sheet_obj = workbook[iris_sheet]\n",
    "\n",
    "for i in range(len(measures)):\n",
    "    iris_sheet_obj.cell(row = i+2, column = 9).value = reflectance[i]\n",
    "    iris_sheet_obj.cell(row = i+2, column = 10).value = ssa[i]\n",
    "    iris_sheet_obj.cell(row = i+2, column = 11).value = optical_radius[i]\n",
    "\n",
    "# Write staged changes in the spreadsheet\n",
    "workbook.save(FILENAME.split('.')[0] + '_IRIS_processed.xlsx')"
   ]
  },
  {
   "cell_type": "markdown",
   "metadata": {},
   "source": [
    "### Batch process folder"
   ]
  },
  {
   "cell_type": "code",
   "execution_count": null,
   "metadata": {},
   "outputs": [],
   "source": [
    "#function to batch process a folder\n",
    "# use with next cell\n",
    "def batchProcess_SSA(FILENAME):\n",
    "    \n",
    "    #specify iris version\n",
    "    iris_sheet = \"IRIS2\"\n",
    "    iris_version = iris_sheet[:-1] + '_' + iris_sheet[-1:]\n",
    "    # Read IRIS data from the IRIS sheet of the file\n",
    "    data = pd.read_excel(FILENAME, sheet_name=iris_sheet)\n",
    "    # List cleaning function\n",
    "    def nanify_list(input_list):\n",
    "        return [np.nan if x == 9999 else x for x in input_list]\n",
    "\n",
    "\n",
    "    # Calibration data retrieval\n",
    "    spectralon = data[\"Spectralon (%)\"].dropna().tolist()\n",
    "    spectralon = np.array(spectralon,dtype=float)\n",
    "    calibration_one = nanify_list(data[\"Calibration measured IRIS (mV)\"].dropna().tolist())\n",
    "    calibration_two = nanify_list(data[\"Other calibration measured IRIS (mV)\"].dropna().tolist())\n",
    "    if np.isnan(np.mean(calibration_one))== True:\n",
    "        calibration_one = nanify_list(data[\"Calibration multimeter (mV)\"].dropna().tolist())\n",
    "        calibration_two = nanify_list(data[\"Other calibration multimeter (mV)\"].dropna().tolist())\n",
    "\n",
    "    calibration_list = [calibration_one, calibration_two]\n",
    "    calibration_scans = np.array([calib for calib in calibration_list if len(calib) > 0 ])\n",
    "\n",
    "    # Calibration voltage averaging\n",
    "    calibration = np.nanmean(calibration_scans, axis=0)\n",
    "    calibration = np.array(calibration,dtype=float)\n",
    "\n",
    "    # Measures data retrieval\n",
    "    height = data[\"Height (cm)\"].dropna().tolist()\n",
    "    measures = nanify_list(data['Measured IRIS (mV)'].dropna().tolist())\n",
    "    if np.isnan(np.mean(measures)) == True:\n",
    "        measures = nanify_list(data[\"Multimeter (mV)\"].dropna().tolist())\n",
    "    measures = np.array(measures)\n",
    "    polynom = iris.calibration_polynom_fit(spectralon, calibration)\n",
    "    reflectance = iris.voltage_to_reflectance(measures, polynom)\n",
    "    ssa = iris.reflectance_to_ssa(reflectance, iris_version)\n",
    "    optical_radius = iris.ssa_to_optical_radius(ssa)\n",
    "    measures_df = pd.DataFrame.from_dict({\n",
    "    'height': height,\n",
    "    'voltage': measures,\n",
    "    'reflectance': reflectance,\n",
    "    'ssa': ssa,\n",
    "    'optical radius': optical_radius\n",
    "    })\n",
    "    # Spreadsheet initialization\n",
    "    workbook = load_workbook(FILENAME) \n",
    "    iris_sheet_obj = workbook[iris_sheet]\n",
    "\n",
    "    for i in range(len(measures)):\n",
    "        iris_sheet_obj.cell(row = i+2, column = 9).value = reflectance[i]\n",
    "        iris_sheet_obj.cell(row = i+2, column = 10).value = ssa[i]\n",
    "        iris_sheet_obj.cell(row = i+2, column = 11).value = optical_radius[i]\n",
    "\n",
    "    # Write staged changes in the spreadsheet\n",
    "    workbook.save(FILENAME.split('.')[0] + '_IRIS_processed.xlsx')"
   ]
  },
  {
   "cell_type": "code",
   "execution_count": null,
   "metadata": {},
   "outputs": [],
   "source": [
    "import os\n",
    "#specify data folder for batch process\n",
    "data_folder = \"D:CB-2022-radiometer/snowpit_SSAtoProcess\"\n",
    "\n",
    "for file in os.listdir(data_folder):\n",
    "    if \".xlsx\" in file:\n",
    "        try:\n",
    "            batchProcess_SSA(os.path.join(data_folder,file))\n",
    "        except:\n",
    "            print(f'error with {file}')"
   ]
  }
 ],
 "metadata": {
  "kernelspec": {
   "display_name": "Python 3 (ipykernel)",
   "language": "python",
   "name": "python3"
  },
  "language_info": {
   "codemirror_mode": {
    "name": "ipython",
    "version": 3
   },
   "file_extension": ".py",
   "mimetype": "text/x-python",
   "name": "python",
   "nbconvert_exporter": "python",
   "pygments_lexer": "ipython3",
   "version": "3.7.9"
  }
 },
 "nbformat": 4,
 "nbformat_minor": 4
}
