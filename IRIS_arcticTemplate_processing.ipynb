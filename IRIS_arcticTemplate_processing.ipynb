{
 "cells": [
  {
   "cell_type": "markdown",
   "metadata": {},
   "source": [
    "# IRIS PROCESSING NOTEBOOK for Arctic Template\n",
    "\n",
    "## ReadMe : \n",
    "- This notebook is designed for the spreadsheet of the Arctic Template.\n",
    "- A few guidelines about the snow pit spreadsheet :\n",
    "    - IRIS version has to be specified as IRIS# in the IRIS sheet of the pit spreadsheet\n",
    "    - NoData is filled as 9999 in the spreadsheet when logging the .txt file IRIS provides\n",
    "\n",
    "<br/><br/>\n",
    "\n",
    "Author : Paul Billecocq, GRIMP, Université de Sherbooke QC Canada\n",
    "modif Julien Meloche and Charlotte Crevier"
   ]
  },
  {
   "cell_type": "code",
   "execution_count": 1,
   "metadata": {},
   "outputs": [],
   "source": [
    "import iris_core as iris\n",
    "import pandas as pd\n",
    "import numpy as np\n",
    "import openpyxl\n",
    "from openpyxl import load_workbook\n",
    "import os"
   ]
  },
  {
   "cell_type": "markdown",
   "metadata": {},
   "source": [
    "# For one specific file"
   ]
  },
  {
   "cell_type": "markdown",
   "metadata": {},
   "source": [
    "### 1. Input spreadsheet path"
   ]
  },
  {
   "cell_type": "code",
   "execution_count": null,
   "metadata": {},
   "outputs": [],
   "source": [
    "FILENAME = r'Y:\\FIELD_WORK\\2022\\CAMBRIDGEBAY\\RAW\\20220327\\OSSA_SP13_20220327_1100.xlsx' #fill in with your specific filename (it has to be placed in the same folder as the notebook)\n",
    "\n",
    "#specify iris version from sheet\n",
    "iris_sheet = \"IRIS 3\"\n",
    "iris_version = iris_sheet[:-2] + '_' + iris_sheet[-1:]\n",
    "print(iris_version)\n",
    "# Read IRIS data from the IRIS sheet of the file\n",
    "data = pd.read_excel(FILENAME, sheet_name=iris_sheet)"
   ]
  },
  {
   "cell_type": "markdown",
   "metadata": {},
   "source": [
    "### 2. Processing"
   ]
  },
  {
   "cell_type": "markdown",
   "metadata": {},
   "source": [
    "#### IRIS data retrieval, cleaning no data, and average reflectance voltages"
   ]
  },
  {
   "cell_type": "code",
   "execution_count": null,
   "metadata": {},
   "outputs": [],
   "source": [
    "# List cleaning function\n",
    "def nanify_list(input_list):\n",
    "    return [np.nan if x == 9999 else x for x in input_list]\n",
    "\n",
    "\n",
    "# Calibration data retrieval\n",
    "spectralon = data[\"Spectralon (%)\"].dropna().tolist()\n",
    "spectralon = np.array(spectralon,dtype=float)\n",
    "calibration_one = nanify_list(data[\"Calibration measured IRIS (mV)\"].dropna().tolist())\n",
    "calibration_two = nanify_list(data[\"Other calibration measured IRIS (mV)\"].dropna().tolist())\n",
    "if np.isnan(np.mean(calibration_one))== True:\n",
    "    calibration_one = nanify_list(data[\"Calibration multimeter (mV)\"].dropna().tolist())\n",
    "    calibration_two = nanify_list(data[\"Other calibration multimeter (mV)\"].dropna().tolist())\n",
    "\n",
    "calibration_list = [calibration_one, calibration_two]\n",
    "calibration_scans = np.array([calib for calib in calibration_list if len(calib) > 0 ])\n",
    "\n",
    "# Calibration voltage averaging\n",
    "calibration = np.nanmean(calibration_scans, axis=0)\n",
    "calibration = np.array(calibration,dtype=float)\n",
    "\n",
    "# Measures data retrieval\n",
    "height = data[\"Height (cm)\"].dropna().tolist()\n",
    "measures = nanify_list(data['Measured IRIS (mV)'].dropna().tolist())\n",
    "if np.isnan(np.mean(measures)) == True:\n",
    "    measures = nanify_list(data[\"Multimeter (mV)\"].dropna().tolist())\n",
    "measures = np.array(measures)"
   ]
  },
  {
   "cell_type": "markdown",
   "metadata": {},
   "source": [
    "#### Compute IRIS parameters"
   ]
  },
  {
   "cell_type": "code",
   "execution_count": 52,
   "metadata": {},
   "outputs": [],
   "source": [
    "# Voltage to reflectance polynomial fit\n",
    "polynom = iris.calibration_polynom_fit(spectralon, calibration)"
   ]
  },
  {
   "cell_type": "code",
   "execution_count": 53,
   "metadata": {},
   "outputs": [],
   "source": [
    "# Compute reflectance\n",
    "reflectance = iris.voltage_to_reflectance(measures, polynom)"
   ]
  },
  {
   "cell_type": "code",
   "execution_count": 54,
   "metadata": {},
   "outputs": [],
   "source": [
    "# Compute SSA from reflectance\n",
    "ssa = iris.reflectance_to_ssa(reflectance, iris_version)"
   ]
  },
  {
   "cell_type": "code",
   "execution_count": 55,
   "metadata": {},
   "outputs": [],
   "source": [
    "# Compute optical radius from SSA\n",
    "optical_radius = iris.ssa_to_optical_radius(ssa)"
   ]
  },
  {
   "cell_type": "code",
   "execution_count": null,
   "metadata": {},
   "outputs": [],
   "source": [
    "measures_df = pd.DataFrame.from_dict({\n",
    "    'height': height,\n",
    "    'voltage': measures,\n",
    "    'reflectance': reflectance,\n",
    "    'ssa': ssa,\n",
    "    'optical radius': optical_radius\n",
    "})\n",
    "\n",
    "measures_df"
   ]
  },
  {
   "cell_type": "markdown",
   "metadata": {},
   "source": [
    "### 3. Write processed data in the spreadsheet"
   ]
  },
  {
   "cell_type": "code",
   "execution_count": 11,
   "metadata": {},
   "outputs": [],
   "source": [
    "# Spreadsheet initialization\n",
    "workbook = load_workbook(FILENAME) \n",
    "iris_sheet_obj = workbook[iris_sheet]\n",
    "\n",
    "for i in range(len(measures)):\n",
    "    iris_sheet_obj.cell(row = i+2, column = 9).value = reflectance[i]\n",
    "    iris_sheet_obj.cell(row = i+2, column = 10).value = ssa[i]\n",
    "    iris_sheet_obj.cell(row = i+2, column = 11).value = optical_radius[i]\n",
    "\n",
    "#For the creation of the file in the processed folder on the serveur  \n",
    "processed_FILENAME = FILENAME.replace(\"RAW\", \"PROCESSED\")\n",
    "path = os.path.join(*processed_FILENAME.split('.')[0].split(\"\\\\\")[:-1])\n",
    "# Check whether the specified path exists or not\n",
    "isExist = os.path.exists(path)\n",
    "if not isExist:\n",
    "  # Create a new directory because it does not exist \n",
    "  os.makedirs(path)\n",
    "  print(\"The new directory is created!\")\n",
    "    \n",
    "# Write staged changes in the spreadsheet\n",
    "workbook.save(processed_FILENAME.split('.')[0] + '_IRIS_processed.xlsx')"
   ]
  },
  {
   "cell_type": "markdown",
   "metadata": {},
   "source": [
    "-------------------------------------------------------------------------------------------------------------------------------"
   ]
  },
  {
   "cell_type": "markdown",
   "metadata": {},
   "source": [
    "# Batch process folder"
   ]
  },
  {
   "cell_type": "code",
   "execution_count": 2,
   "metadata": {},
   "outputs": [],
   "source": [
    "#function to batch process a folder\n",
    "# use with next cell\n",
    "def batchProcess_SSA(FILENAME):\n",
    "    \n",
    "    #specify iris version\n",
    "    try :\n",
    "        iris_sheet = \"IRIS2\"\n",
    "        iris_version = iris_sheet[:-1] + '_' + iris_sheet[-1:]\n",
    "        # Read IRIS data from the IRIS sheet of the file\n",
    "        data = pd.read_excel(FILENAME, sheet_name=iris_sheet)\n",
    "    except:\n",
    "        try:\n",
    "            iris_sheet = \"IRIS 2\"\n",
    "            iris_version = iris_sheet[:-2] + '_' + iris_sheet[-1:]\n",
    "            # Read IRIS data from the IRIS sheet of the file\n",
    "            data = pd.read_excel(FILENAME, sheet_name=iris_sheet)\n",
    "        except :\n",
    "            try:\n",
    "                iris_sheet = \"IRIS 3\"\n",
    "                iris_version = iris_sheet[:-2] + '_' + iris_sheet[-1:]\n",
    "                # Read IRIS data from the IRIS sheet of the file\n",
    "                data = pd.read_excel(FILENAME, sheet_name=iris_sheet)\n",
    "            except:\n",
    "                iris_sheet = \"IRIS3\"\n",
    "                iris_version = iris_sheet[:-1] + '_' + iris_sheet[-1:]\n",
    "                # Read IRIS data from the IRIS sheet of the file\n",
    "                data = pd.read_excel(FILENAME, sheet_name=iris_sheet)\n",
    "    \n",
    "    # List cleaning function\n",
    "    def nanify_list(input_list):\n",
    "        return [np.nan if x == 9999 else x for x in input_list]\n",
    "\n",
    "    # Calibration data retrieval\n",
    "    spectralon = data[\"Spectralon (%)\"].dropna().tolist()\n",
    "    spectralon = np.array(spectralon,dtype=float)\n",
    "    calibration_one = nanify_list(data[\"Calibration measured IRIS (mV)\"].dropna().tolist())\n",
    "    calibration_two = nanify_list(data[\"Other calibration measured IRIS (mV)\"].dropna().tolist())\n",
    "    if np.isnan(np.mean(calibration_one))== True:\n",
    "        calibration_one = nanify_list(data[\"Calibration multimeter (mV)\"].dropna().tolist())\n",
    "        calibration_two = nanify_list(data[\"Other calibration multimeter (mV)\"].dropna().tolist())\n",
    "\n",
    "    #Validate that the iris was done and that all the calibraiton values are in the excel sheet\n",
    "    if np.isnan(np.mean(calibration_one))== True: #La moyenne sera de np.nan s'il y a un ou plusieur nan dans la liste\n",
    "        raise NoCalibrationDone\n",
    "    \n",
    "    calibration_list = [calibration_one, calibration_two]\n",
    "    #rtansform list into array\n",
    "    calibration_scans = np.array([calib for calib in calibration_list if len(calib) > 0 ])\n",
    "    \n",
    "    # Calibration voltage averaging from the 2 calibrations\n",
    "    calibration = np.nanmean(calibration_scans, axis=0)\n",
    "    calibration = np.array(calibration,dtype=float)\n",
    "\n",
    "    # Measures data retrieval\n",
    "    height = data[\"Height (cm)\"].dropna().tolist()\n",
    "    measures = nanify_list(data['Measured IRIS (mV)'].dropna().tolist())\n",
    "    if np.isnan(np.mean(measures)) == True:\n",
    "        measures = nanify_list(data[\"Multimeter (mV)\"].dropna().tolist())\n",
    "    measures = np.array(measures)\n",
    "    polynom = iris.calibration_polynom_fit(spectralon, calibration)\n",
    "    reflectance = iris.voltage_to_reflectance(measures, polynom)\n",
    "    ssa = iris.reflectance_to_ssa(reflectance, iris_version)\n",
    "    optical_radius = iris.ssa_to_optical_radius(ssa)\n",
    "    try: \n",
    "        measures_df = pd.DataFrame.from_dict({\n",
    "        'height': height,\n",
    "        'voltage': measures,\n",
    "        'reflectance': reflectance,\n",
    "        'ssa': ssa,\n",
    "        'optical radius': optical_radius\n",
    "        })\n",
    "    except :\n",
    "        raise ListNotSameLenght\n",
    "        \n",
    "    # Spreadsheet initialization\n",
    "    workbook = load_workbook(FILENAME) \n",
    "    iris_sheet_obj = workbook[iris_sheet]\n",
    "\n",
    "    for i in range(len(measures)):\n",
    "        iris_sheet_obj.cell(row = i+2, column = 9).value = reflectance[i]\n",
    "        iris_sheet_obj.cell(row = i+2, column = 10).value = ssa[i]\n",
    "        iris_sheet_obj.cell(row = i+2, column = 11).value = optical_radius[i]\n",
    "    \n",
    "    #For the creation of the file in the processed folder on the serveur  \n",
    "    processed_FILENAME = FILENAME.replace(\"RAW\", \"PROCESSED\")\n",
    "    path = os.path.join(*processed_FILENAME.split('.')[0].split(\"\\\\\")[:-1])\n",
    "    # Check whether the specified path exists or not\n",
    "    isExist = os.path.exists(path)\n",
    "    if not isExist:\n",
    "      # Create a new directory because it does not exist \n",
    "      os.makedirs(path)\n",
    "      print(\"The new directory is created!\")\n",
    "\n",
    "    # Write staged changes in the spreadsheet\n",
    "    workbook.save(processed_FILENAME.split('.')[0] + '_IRIS_processed.xlsx')\n",
    "    \n",
    "class NoCalibrationDone(Exception):\n",
    "    pass\n",
    "class ListNotSameLenght(Exception):\n",
    "    pass"
   ]
  },
  {
   "cell_type": "code",
   "execution_count": 3,
   "metadata": {},
   "outputs": [],
   "source": [
    "#Liste des dates à traiter\n",
    "#Liste des dates pour lesquelles nous avons fait des SP et qui se trouve dans le dossier de terrain\n",
    "list_of_date = ['20220326', '20220327', '20220328', '20220329', '20220401', '20220402', '20220403', '20220404', '20220405', \n",
    "                '20220406', '20220409', '20220410', '20220411', '20220412', '20220414', '20220415', '20220416', '20220417', \n",
    "               '20220418', '20220419', '20220420', '20220421', '20220422', '20220423', '20220425', '20220426', '20220427']\n",
    "\n",
    "#Chemin vers le dossier sur le serveur\n",
    "main_folder = r'Y:\\FIELD_WORK\\2022\\CAMBRIDGEBAY\\RAW'\n"
   ]
  },
  {
   "cell_type": "code",
   "execution_count": null,
   "metadata": {},
   "outputs": [],
   "source": [
    "import os\n",
    "#Create a list of the not working file \n",
    "error_file = []\n",
    "missing9999_file = []\n",
    "noCalibration_file = []\n",
    "file_done = []\n",
    "file_total = []\n",
    "#specify data folder for batch process\n",
    "for date in list_of_date:\n",
    "    \n",
    "    data_folder = os.path.join(main_folder, date)\n",
    "    #data_folder = \"D:CB-2022-radiometer/snowpit_SSAtoProcess\"\n",
    "    print('Starting : ', data_folder)\n",
    "    for file in os.listdir(data_folder):\n",
    "        if \".xlsx\" in file:\n",
    "            file_total.append(file)\n",
    "            try:\n",
    "                batchProcess_SSA(os.path.join(data_folder,file))\n",
    "            except NoCalibrationDone: #S'il manque 1 ou plus valeurs de iris dans la calibration\n",
    "                noCalibration_file.append(file)\n",
    "            except ListNotSameLenght: # Si les listes de hauteur de neige et de valeur de IRIS ne sont pas de la même longueur\n",
    "                missing9999_file.append(file)\n",
    "            except :\n",
    "                error_file.append(file) #Autre erreur avec le fichier\n",
    "            else :\n",
    "                file_done.append(file)\n",
    "    print('Done with : ', data_folder)"
   ]
  },
  {
   "cell_type": "code",
   "execution_count": null,
   "metadata": {},
   "outputs": [],
   "source": [
    "#get the list of the file that the process didn't work (could be exported in .txt for futur reference)\n",
    "error_file"
   ]
  },
  {
   "cell_type": "code",
   "execution_count": null,
   "metadata": {},
   "outputs": [],
   "source": [
    "#get the list of the file that the process didn't work because of the calibration (could be exported in .txt for futur reference)\n",
    "noCalibration_file"
   ]
  },
  {
   "cell_type": "code",
   "execution_count": null,
   "metadata": {},
   "outputs": [],
   "source": [
    "#get the list of the file that the process didn't work because number of measurments doesn't fit the height (could be exported in .txt for futur reference)\n",
    "missing9999_file"
   ]
  }
 ],
 "metadata": {
  "kernelspec": {
   "display_name": "Python 3",
   "language": "python",
   "name": "python3"
  },
  "language_info": {
   "codemirror_mode": {
    "name": "ipython",
    "version": 3
   },
   "file_extension": ".py",
   "mimetype": "text/x-python",
   "name": "python",
   "nbconvert_exporter": "python",
   "pygments_lexer": "ipython3",
   "version": "3.8.5"
  }
 },
 "nbformat": 4,
 "nbformat_minor": 4
}
