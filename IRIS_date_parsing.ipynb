{
 "cells": [
  {
   "cell_type": "code",
   "execution_count": 14,
   "metadata": {},
   "outputs": [],
   "source": [
    "import pandas as pd\n",
    "import numpy as np\n",
    "from datetime import timedelta\n",
    "import iris_core as iris"
   ]
  },
  {
   "cell_type": "markdown",
   "metadata": {},
   "source": [
    "### 1. Specifiy IRIS version"
   ]
  },
  {
   "cell_type": "code",
   "execution_count": 28,
   "metadata": {},
   "outputs": [],
   "source": [
    "#Valid choices are : IRIS_1, IRIS_2, or IRIS_3\n",
    "IRIS_VERSION = 'IRIS_1'"
   ]
  },
  {
   "cell_type": "markdown",
   "metadata": {},
   "source": [
    "### 2. Specify IRIS raw file"
   ]
  },
  {
   "cell_type": "code",
   "execution_count": 1,
   "metadata": {},
   "outputs": [],
   "source": [
    "filepath = '../IRIS_FILE_RETRIEVAL/20220322.TXT'"
   ]
  },
  {
   "cell_type": "code",
   "execution_count": 7,
   "metadata": {},
   "outputs": [],
   "source": [
    "# Create file date object and read file as pandas dataframe\n",
    "date_string = filename.split('/')[-1].split('.')[0]\n",
    "\n",
    "raw_file = pd.read_csv(filename, sep=',', names=['timestamp', 'voltage'])\n",
    "raw_file['timestamp'] = pd.to_datetime(date_string + ' ' + raw_file['timestamp'])"
   ]
  },
  {
   "cell_type": "markdown",
   "metadata": {},
   "source": [
    "### 3. Parse raw IRIS files into lists based on time interval between measurements"
   ]
  },
  {
   "cell_type": "code",
   "execution_count": 8,
   "metadata": {},
   "outputs": [],
   "source": [
    "def compute_time_difference(row):\n",
    "    #Handle first row exception\n",
    "    if row.name == 0:\n",
    "        return timedelta(seconds=0)\n",
    "    else :\n",
    "        time_difference = row['timestamp'] - raw_file['timestamp'][int(row.name) - 1]\n",
    "        return time_difference"
   ]
  },
  {
   "cell_type": "code",
   "execution_count": 10,
   "metadata": {},
   "outputs": [],
   "source": [
    "raw_file['delta_t'] = raw_file.apply(lambda x : compute_time_difference(x), axis=1)\n",
    "\n",
    "timestamp = raw_file['timestamp'].to_list()\n",
    "voltage = raw_file['voltage'].to_list()\n",
    "delta_t = raw_file['delta_t'].to_list()"
   ]
  },
  {
   "cell_type": "code",
   "execution_count": 11,
   "metadata": {},
   "outputs": [],
   "source": [
    "c_list_volt = []\n",
    "c_list_time = []\n",
    "groups_time = []\n",
    "groups_volt = []\n",
    "\n",
    "for idx, interval in enumerate(delta_t):\n",
    "    if interval < pd.to_timedelta('10s'):\n",
    "        c_list_volt.append(voltage[idx])\n",
    "        c_list_time.append(timestamp[idx])\n",
    "    else :\n",
    "        groups_volt.append(c_list_volt)\n",
    "        groups_time.append(c_list_time)\n",
    "        c_list_volt = [voltage[idx]]\n",
    "        c_list_time = [timestamp[idx]]"
   ]
  },
  {
   "cell_type": "markdown",
   "metadata": {},
   "source": [
    "### 4. Read measure labels (calib + height) in excel sheet"
   ]
  },
  {
   "cell_type": "code",
   "execution_count": 12,
   "metadata": {},
   "outputs": [],
   "source": [
    "in_shape_df = pd.read_excel(\"C:/Users/paulb/Documents/Doctorat/ROGERS_PASS_2022/2022-03-22/Fidelity_20220322_playground.xlsx\",\n",
    "             sheet_name=\"IRIS_labels\")"
   ]
  },
  {
   "cell_type": "code",
   "execution_count": 15,
   "metadata": {},
   "outputs": [],
   "source": [
    "# Average voltage measurements and generate calibration and measures dataframe\n",
    "average_volt = [np.mean(measures) for measures in groups_volt]\n",
    "in_shape_df['voltage'] = average_volt\n",
    "calib_df  = in_shape_df[in_shape_df['labels'].str.contains('Spectralon', na=False)].copy()\n",
    "measures_df = in_shape_df[~in_shape_df['labels'].str.contains('Spectralon', na=False)].copy()"
   ]
  },
  {
   "cell_type": "markdown",
   "metadata": {},
   "source": [
    "### 5. Process IRIS data"
   ]
  },
  {
   "cell_type": "markdown",
   "metadata": {},
   "source": [
    "#### Compute reflectance voltage averages for spectralon and measures"
   ]
  },
  {
   "cell_type": "code",
   "execution_count": 22,
   "metadata": {},
   "outputs": [],
   "source": [
    "calib_df.rename({'labels': 'spectralon'}, inplace=True, axis=1)\n",
    "calib_df['spectralon'] = calib_df['spectralon'].apply(lambda x : int(x.split(' ')[-1][:-1]))\n",
    "calib_df = calib_df.groupby(['spectralon']).mean()"
   ]
  },
  {
   "cell_type": "markdown",
   "metadata": {},
   "source": [
    "#### Create averaged voltages per heights"
   ]
  },
  {
   "cell_type": "code",
   "execution_count": 24,
   "metadata": {},
   "outputs": [],
   "source": [
    "measures_df.rename({'labels': 'height'}, inplace=True, axis=1)"
   ]
  },
  {
   "cell_type": "markdown",
   "metadata": {},
   "source": [
    "#### Compute IRIS parameters"
   ]
  },
  {
   "cell_type": "code",
   "execution_count": 25,
   "metadata": {},
   "outputs": [],
   "source": [
    "# Voltage to reflectance polynomial fit\n",
    "polynom = iris.calibration_polynom_fit(calib_df.index.values, calib_df['voltage'].values)"
   ]
  },
  {
   "cell_type": "code",
   "execution_count": 26,
   "metadata": {},
   "outputs": [],
   "source": [
    "# Compute reflectance\n",
    "measures_df['reflectance'] = measures_df['voltage'].apply(lambda x : iris.voltage_to_reflectance(x, polynom))"
   ]
  },
  {
   "cell_type": "code",
   "execution_count": 29,
   "metadata": {},
   "outputs": [],
   "source": [
    "# Compute SSA from reflectance\n",
    "measures_df['ssa'] = measures_df['reflectance'].apply(lambda x : iris.reflectance_to_ssa(x, IRIS_VERSION))"
   ]
  },
  {
   "cell_type": "code",
   "execution_count": 30,
   "metadata": {},
   "outputs": [],
   "source": [
    "# Compute optical radius from SSA\n",
    "measures_df['optical radius'] = measures_df['ssa'].apply(lambda x : iris.ssa_to_optical_radius(x))"
   ]
  },
  {
   "cell_type": "markdown",
   "metadata": {},
   "source": [
    "#### Processed data preview"
   ]
  },
  {
   "cell_type": "code",
   "execution_count": 31,
   "metadata": {},
   "outputs": [
    {
     "data": {
      "text/html": [
       "<div>\n",
       "<style scoped>\n",
       "    .dataframe tbody tr th:only-of-type {\n",
       "        vertical-align: middle;\n",
       "    }\n",
       "\n",
       "    .dataframe tbody tr th {\n",
       "        vertical-align: top;\n",
       "    }\n",
       "\n",
       "    .dataframe thead th {\n",
       "        text-align: right;\n",
       "    }\n",
       "</style>\n",
       "<table border=\"1\" class=\"dataframe\">\n",
       "  <thead>\n",
       "    <tr style=\"text-align: right;\">\n",
       "      <th></th>\n",
       "      <th>height</th>\n",
       "      <th>voltage</th>\n",
       "      <th>reflectance</th>\n",
       "      <th>ssa</th>\n",
       "      <th>optical radius</th>\n",
       "    </tr>\n",
       "  </thead>\n",
       "  <tbody>\n",
       "    <tr>\n",
       "      <th>39</th>\n",
       "      <td>25</td>\n",
       "      <td>0.484333</td>\n",
       "      <td>1.34</td>\n",
       "      <td>1.44</td>\n",
       "      <td>2.272645</td>\n",
       "    </tr>\n",
       "    <tr>\n",
       "      <th>38</th>\n",
       "      <td>30</td>\n",
       "      <td>0.528000</td>\n",
       "      <td>3.50</td>\n",
       "      <td>2.38</td>\n",
       "      <td>1.375045</td>\n",
       "    </tr>\n",
       "    <tr>\n",
       "      <th>37</th>\n",
       "      <td>35</td>\n",
       "      <td>0.509667</td>\n",
       "      <td>2.50</td>\n",
       "      <td>1.97</td>\n",
       "      <td>1.661222</td>\n",
       "    </tr>\n",
       "    <tr>\n",
       "      <th>36</th>\n",
       "      <td>40</td>\n",
       "      <td>0.521667</td>\n",
       "      <td>3.14</td>\n",
       "      <td>2.24</td>\n",
       "      <td>1.460986</td>\n",
       "    </tr>\n",
       "    <tr>\n",
       "      <th>35</th>\n",
       "      <td>45</td>\n",
       "      <td>0.516000</td>\n",
       "      <td>2.83</td>\n",
       "      <td>2.11</td>\n",
       "      <td>1.550999</td>\n",
       "    </tr>\n",
       "    <tr>\n",
       "      <th>34</th>\n",
       "      <td>55</td>\n",
       "      <td>0.537667</td>\n",
       "      <td>4.08</td>\n",
       "      <td>2.62</td>\n",
       "      <td>1.249087</td>\n",
       "    </tr>\n",
       "    <tr>\n",
       "      <th>33</th>\n",
       "      <td>60</td>\n",
       "      <td>0.535000</td>\n",
       "      <td>3.92</td>\n",
       "      <td>2.55</td>\n",
       "      <td>1.283376</td>\n",
       "    </tr>\n",
       "    <tr>\n",
       "      <th>32</th>\n",
       "      <td>65</td>\n",
       "      <td>0.534667</td>\n",
       "      <td>3.90</td>\n",
       "      <td>2.55</td>\n",
       "      <td>1.283376</td>\n",
       "    </tr>\n",
       "    <tr>\n",
       "      <th>31</th>\n",
       "      <td>70</td>\n",
       "      <td>0.524667</td>\n",
       "      <td>3.31</td>\n",
       "      <td>2.31</td>\n",
       "      <td>1.416714</td>\n",
       "    </tr>\n",
       "    <tr>\n",
       "      <th>30</th>\n",
       "      <td>75</td>\n",
       "      <td>0.514333</td>\n",
       "      <td>2.74</td>\n",
       "      <td>2.07</td>\n",
       "      <td>1.580970</td>\n",
       "    </tr>\n",
       "    <tr>\n",
       "      <th>29</th>\n",
       "      <td>80</td>\n",
       "      <td>0.513667</td>\n",
       "      <td>2.71</td>\n",
       "      <td>2.06</td>\n",
       "      <td>1.588645</td>\n",
       "    </tr>\n",
       "    <tr>\n",
       "      <th>28</th>\n",
       "      <td>85</td>\n",
       "      <td>0.530667</td>\n",
       "      <td>3.66</td>\n",
       "      <td>2.45</td>\n",
       "      <td>1.335758</td>\n",
       "    </tr>\n",
       "    <tr>\n",
       "      <th>27</th>\n",
       "      <td>90</td>\n",
       "      <td>0.520667</td>\n",
       "      <td>3.08</td>\n",
       "      <td>2.21</td>\n",
       "      <td>1.480818</td>\n",
       "    </tr>\n",
       "    <tr>\n",
       "      <th>26</th>\n",
       "      <td>95</td>\n",
       "      <td>0.518000</td>\n",
       "      <td>2.94</td>\n",
       "      <td>2.15</td>\n",
       "      <td>1.522143</td>\n",
       "    </tr>\n",
       "    <tr>\n",
       "      <th>25</th>\n",
       "      <td>100</td>\n",
       "      <td>0.537000</td>\n",
       "      <td>4.04</td>\n",
       "      <td>2.60</td>\n",
       "      <td>1.258695</td>\n",
       "    </tr>\n",
       "    <tr>\n",
       "      <th>24</th>\n",
       "      <td>105</td>\n",
       "      <td>0.563333</td>\n",
       "      <td>5.78</td>\n",
       "      <td>3.30</td>\n",
       "      <td>0.991699</td>\n",
       "    </tr>\n",
       "    <tr>\n",
       "      <th>23</th>\n",
       "      <td>110</td>\n",
       "      <td>0.564333</td>\n",
       "      <td>5.85</td>\n",
       "      <td>3.33</td>\n",
       "      <td>0.982765</td>\n",
       "    </tr>\n",
       "    <tr>\n",
       "      <th>22</th>\n",
       "      <td>115</td>\n",
       "      <td>0.592333</td>\n",
       "      <td>7.97</td>\n",
       "      <td>4.19</td>\n",
       "      <td>0.781052</td>\n",
       "    </tr>\n",
       "    <tr>\n",
       "      <th>21</th>\n",
       "      <td>120</td>\n",
       "      <td>0.564000</td>\n",
       "      <td>5.83</td>\n",
       "      <td>3.32</td>\n",
       "      <td>0.985725</td>\n",
       "    </tr>\n",
       "    <tr>\n",
       "      <th>20</th>\n",
       "      <td>125</td>\n",
       "      <td>0.566667</td>\n",
       "      <td>6.02</td>\n",
       "      <td>3.39</td>\n",
       "      <td>0.965371</td>\n",
       "    </tr>\n",
       "    <tr>\n",
       "      <th>19</th>\n",
       "      <td>130</td>\n",
       "      <td>0.616000</td>\n",
       "      <td>9.96</td>\n",
       "      <td>5.04</td>\n",
       "      <td>0.649327</td>\n",
       "    </tr>\n",
       "    <tr>\n",
       "      <th>18</th>\n",
       "      <td>135</td>\n",
       "      <td>0.648667</td>\n",
       "      <td>12.97</td>\n",
       "      <td>6.42</td>\n",
       "      <td>0.509752</td>\n",
       "    </tr>\n",
       "    <tr>\n",
       "      <th>17</th>\n",
       "      <td>140</td>\n",
       "      <td>0.571333</td>\n",
       "      <td>6.36</td>\n",
       "      <td>3.53</td>\n",
       "      <td>0.927084</td>\n",
       "    </tr>\n",
       "    <tr>\n",
       "      <th>16</th>\n",
       "      <td>145</td>\n",
       "      <td>0.567667</td>\n",
       "      <td>6.09</td>\n",
       "      <td>3.42</td>\n",
       "      <td>0.956903</td>\n",
       "    </tr>\n",
       "    <tr>\n",
       "      <th>15</th>\n",
       "      <td>150</td>\n",
       "      <td>0.647000</td>\n",
       "      <td>12.81</td>\n",
       "      <td>6.35</td>\n",
       "      <td>0.515371</td>\n",
       "    </tr>\n",
       "    <tr>\n",
       "      <th>14</th>\n",
       "      <td>155</td>\n",
       "      <td>0.631667</td>\n",
       "      <td>11.37</td>\n",
       "      <td>5.67</td>\n",
       "      <td>0.577180</td>\n",
       "    </tr>\n",
       "    <tr>\n",
       "      <th>13</th>\n",
       "      <td>160</td>\n",
       "      <td>0.653000</td>\n",
       "      <td>13.40</td>\n",
       "      <td>6.63</td>\n",
       "      <td>0.493606</td>\n",
       "    </tr>\n",
       "    <tr>\n",
       "      <th>12</th>\n",
       "      <td>165</td>\n",
       "      <td>0.655000</td>\n",
       "      <td>13.59</td>\n",
       "      <td>6.73</td>\n",
       "      <td>0.486272</td>\n",
       "    </tr>\n",
       "    <tr>\n",
       "      <th>11</th>\n",
       "      <td>170</td>\n",
       "      <td>0.632000</td>\n",
       "      <td>11.40</td>\n",
       "      <td>5.68</td>\n",
       "      <td>0.576163</td>\n",
       "    </tr>\n",
       "    <tr>\n",
       "      <th>10</th>\n",
       "      <td>175</td>\n",
       "      <td>0.588333</td>\n",
       "      <td>7.66</td>\n",
       "      <td>4.06</td>\n",
       "      <td>0.806061</td>\n",
       "    </tr>\n",
       "    <tr>\n",
       "      <th>9</th>\n",
       "      <td>180</td>\n",
       "      <td>0.632333</td>\n",
       "      <td>11.43</td>\n",
       "      <td>5.70</td>\n",
       "      <td>0.574142</td>\n",
       "    </tr>\n",
       "    <tr>\n",
       "      <th>8</th>\n",
       "      <td>185</td>\n",
       "      <td>0.675667</td>\n",
       "      <td>15.68</td>\n",
       "      <td>7.81</td>\n",
       "      <td>0.419028</td>\n",
       "    </tr>\n",
       "    <tr>\n",
       "      <th>7</th>\n",
       "      <td>195</td>\n",
       "      <td>0.583000</td>\n",
       "      <td>7.24</td>\n",
       "      <td>3.89</td>\n",
       "      <td>0.841287</td>\n",
       "    </tr>\n",
       "    <tr>\n",
       "      <th>6</th>\n",
       "      <td>200</td>\n",
       "      <td>0.674000</td>\n",
       "      <td>15.50</td>\n",
       "      <td>7.71</td>\n",
       "      <td>0.424463</td>\n",
       "    </tr>\n",
       "  </tbody>\n",
       "</table>\n",
       "</div>"
      ],
      "text/plain": [
       "   height   voltage  reflectance   ssa  optical radius\n",
       "39     25  0.484333         1.34  1.44        2.272645\n",
       "38     30  0.528000         3.50  2.38        1.375045\n",
       "37     35  0.509667         2.50  1.97        1.661222\n",
       "36     40  0.521667         3.14  2.24        1.460986\n",
       "35     45  0.516000         2.83  2.11        1.550999\n",
       "34     55  0.537667         4.08  2.62        1.249087\n",
       "33     60  0.535000         3.92  2.55        1.283376\n",
       "32     65  0.534667         3.90  2.55        1.283376\n",
       "31     70  0.524667         3.31  2.31        1.416714\n",
       "30     75  0.514333         2.74  2.07        1.580970\n",
       "29     80  0.513667         2.71  2.06        1.588645\n",
       "28     85  0.530667         3.66  2.45        1.335758\n",
       "27     90  0.520667         3.08  2.21        1.480818\n",
       "26     95  0.518000         2.94  2.15        1.522143\n",
       "25    100  0.537000         4.04  2.60        1.258695\n",
       "24    105  0.563333         5.78  3.30        0.991699\n",
       "23    110  0.564333         5.85  3.33        0.982765\n",
       "22    115  0.592333         7.97  4.19        0.781052\n",
       "21    120  0.564000         5.83  3.32        0.985725\n",
       "20    125  0.566667         6.02  3.39        0.965371\n",
       "19    130  0.616000         9.96  5.04        0.649327\n",
       "18    135  0.648667        12.97  6.42        0.509752\n",
       "17    140  0.571333         6.36  3.53        0.927084\n",
       "16    145  0.567667         6.09  3.42        0.956903\n",
       "15    150  0.647000        12.81  6.35        0.515371\n",
       "14    155  0.631667        11.37  5.67        0.577180\n",
       "13    160  0.653000        13.40  6.63        0.493606\n",
       "12    165  0.655000        13.59  6.73        0.486272\n",
       "11    170  0.632000        11.40  5.68        0.576163\n",
       "10    175  0.588333         7.66  4.06        0.806061\n",
       "9     180  0.632333        11.43  5.70        0.574142\n",
       "8     185  0.675667        15.68  7.81        0.419028\n",
       "7     195  0.583000         7.24  3.89        0.841287\n",
       "6     200  0.674000        15.50  7.71        0.424463"
      ]
     },
     "execution_count": 31,
     "metadata": {},
     "output_type": "execute_result"
    }
   ],
   "source": [
    "measures_df.sort_index(ascending=False, inplace=True)\n",
    "measures_df"
   ]
  },
  {
   "cell_type": "markdown",
   "metadata": {},
   "source": [
    "### 5. Write dataframe to a .csv file"
   ]
  },
  {
   "cell_type": "code",
   "execution_count": 15,
   "metadata": {},
   "outputs": [],
   "source": [
    "measures_df.to_csv(iris_file.split('.')[0] + '_processed.csv')"
   ]
  },
  {
   "cell_type": "code",
   "execution_count": null,
   "metadata": {},
   "outputs": [],
   "source": []
  }
 ],
 "metadata": {
  "kernelspec": {
   "display_name": "Python 3",
   "language": "python",
   "name": "python3"
  },
  "language_info": {
   "codemirror_mode": {
    "name": "ipython",
    "version": 3
   },
   "file_extension": ".py",
   "mimetype": "text/x-python",
   "name": "python",
   "nbconvert_exporter": "python",
   "pygments_lexer": "ipython3",
   "version": "3.7.7"
  }
 },
 "nbformat": 4,
 "nbformat_minor": 4
}
